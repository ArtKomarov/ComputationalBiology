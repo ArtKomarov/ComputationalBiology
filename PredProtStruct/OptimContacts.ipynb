{
 "cells": [
  {
   "cell_type": "code",
   "execution_count": 200,
   "metadata": {},
   "outputs": [],
   "source": [
    "from Bio.PDB import *\n",
    "import numpy as np\n",
    "import os"
   ]
  },
  {
   "cell_type": "markdown",
   "metadata": {},
   "source": [
    "## Read reference (test) pdb file and create reference (test) contact map"
   ]
  },
  {
   "cell_type": "markdown",
   "metadata": {},
   "source": [
    "Define a simple function which returns the distance between two alpha carbon atoms, and a second function which uses this to calculate an entire distance matrix:"
   ]
  },
  {
   "cell_type": "code",
   "execution_count": 201,
   "metadata": {},
   "outputs": [],
   "source": [
    "def calc_residue_dist(amino_acid_one, amino_acid_two):\n",
    "    \"\"\"Returns the C-alpha distance between two residues\"\"\"\n",
    "    diff_vector  = amino_acid_one[\"CA\"].coord - amino_acid_two[\"CA\"].coord\n",
    "    return np.sqrt(np.sum(diff_vector * diff_vector))\n",
    "\n",
    "def calc_dist_matrix(chain):\n",
    "    \"\"\"Returns a matrix of C-alpha distances\"\"\"\n",
    "    answer = np.zeros((len(chain), len(chain)), np.float64)\n",
    "    for row, amino_acid_one in enumerate(chain):\n",
    "        for col, amino_acid_two in enumerate(chain):\n",
    "            answer[row, col] = calc_residue_dist(amino_acid_one, amino_acid_two)\n",
    "    return answer"
   ]
  },
  {
   "cell_type": "markdown",
   "metadata": {},
   "source": [
    "Then the reference PDB file is read into the variable structure using Bio.PDB.PDBParser()"
   ]
  },
  {
   "cell_type": "code",
   "execution_count": 202,
   "metadata": {},
   "outputs": [],
   "source": [
    "pdb_code = \"test\"\n",
    "pdb_filename = \"tetR.pdb\""
   ]
  },
  {
   "cell_type": "code",
   "execution_count": 203,
   "metadata": {},
   "outputs": [
    {
     "name": "stderr",
     "output_type": "stream",
     "text": [
      "/home/maksym/anaconda3/lib/python3.8/site-packages/Bio/PDB/PDBParser.py:395: PDBConstructionWarning: Ignoring unrecognized record 'END' at line 709\n",
      "  warnings.warn(\n"
     ]
    }
   ],
   "source": [
    "test_model = PDBParser().get_structure(pdb_code, pdb_filename)[0]"
   ]
  },
  {
   "cell_type": "markdown",
   "metadata": {},
   "source": [
    "### Calculate the distance matrix to get reference (test) contact map"
   ]
  },
  {
   "cell_type": "code",
   "execution_count": 204,
   "metadata": {},
   "outputs": [],
   "source": [
    "dist_threshold = 9\n",
    "for chain in test_model:\n",
    "    dist_matrix = calc_dist_matrix(chain)\n",
    "    test_contact_map = dist_matrix < dist_threshold\n",
    "    test_contact_map = test_contact_map.astype(np.int32)\n",
    "    break"
   ]
  },
  {
   "cell_type": "code",
   "execution_count": 205,
   "metadata": {},
   "outputs": [
    {
     "data": {
      "text/plain": [
       "(44, 44)"
      ]
     },
     "execution_count": 205,
     "metadata": {},
     "output_type": "execute_result"
    }
   ],
   "source": [
    "test_contact_map.shape"
   ]
  },
  {
   "cell_type": "code",
   "execution_count": 206,
   "metadata": {},
   "outputs": [
    {
     "data": {
      "text/plain": [
       "<matplotlib.image.AxesImage at 0x7ff0920375e0>"
      ]
     },
     "execution_count": 206,
     "metadata": {},
     "output_type": "execute_result"
    },
    {
     "data": {
      "image/png": "[encoded data removed]",
      "text/plain": [
       "<Figure size 576x576 with 1 Axes>"
      ]
     },
     "metadata": {
      "needs_background": "light"
     },
     "output_type": "display_data"
    }
   ],
   "source": [
    "import matplotlib.pyplot as plt\n",
    "\n",
    "plt.figure(figsize=[8, 8])\n",
    "plt.matshow(test_contact_map, fignum=1, cmap='gray')"
   ]
  },
  {
   "cell_type": "markdown",
   "metadata": {},
   "source": [
    "## Load and deal with Mutual Information table"
   ]
  },
  {
   "cell_type": "markdown",
   "metadata": {},
   "source": [
    "Load npy file. It was created in PredProtStruct.ipynb"
   ]
  },
  {
   "cell_type": "code",
   "execution_count": 207,
   "metadata": {},
   "outputs": [],
   "source": [
    "train_mi_table = np.load(\"mi_table_corrected2.npy\")"
   ]
  },
  {
   "cell_type": "code",
   "execution_count": 208,
   "metadata": {},
   "outputs": [
    {
     "data": {
      "text/plain": [
       "(-0.18121055825612498, 2.4184813812748183)"
      ]
     },
     "execution_count": 208,
     "metadata": {},
     "output_type": "execute_result"
    }
   ],
   "source": [
    "train_mi_table.min(), train_mi_table.max()"
   ]
  },
  {
   "cell_type": "code",
   "execution_count": 209,
   "metadata": {},
   "outputs": [],
   "source": [
    "def mi_to_contact_map(mi_table, threshold): #convert mutual information table to contact map using threshold\n",
    "    train_contact_map = mi_table > threshold\n",
    "    train_contact_map = train_contact_map.astype(np.int32)\n",
    "    return train_contact_map"
   ]
  },
  {
   "cell_type": "markdown",
   "metadata": {},
   "source": [
    "### Matrix similarity metrics"
   ]
  },
  {
   "cell_type": "code",
   "execution_count": 210,
   "metadata": {},
   "outputs": [],
   "source": [
    "def matrix_dist(m1, m2): #metric 1: Matrix difference norm\n",
    "    #assert m1.shape == m2.shape\n",
    "    matrix_diff = m1 - m2\n",
    "    return np.linalg.norm(matrix_diff)\n",
    "\n",
    "def equal_zeros(m1, m2): #metric 2: Zeros quantity difference\n",
    "    _, counts1 = np.unique(m1, return_counts=True)\n",
    "    _, counts2 = np.unique(m2, return_counts=True)\n",
    "    return np.abs(counts1[0] - counts2[0])"
   ]
  },
  {
   "cell_type": "code",
   "execution_count": 211,
   "metadata": {},
   "outputs": [],
   "source": [
    "def threshold_func(test_contact_map, train_mi_table, threshold, func):\n",
    "    train_contact_map = mi_to_contact_map(train_mi_table, threshold)\n",
    "    return func(train_contact_map, test_contact_map)"
   ]
  },
  {
   "cell_type": "markdown",
   "metadata": {},
   "source": [
    "### Find the threshold by minimizing one of the metrics"
   ]
  },
  {
   "cell_type": "markdown",
   "metadata": {},
   "source": [
    "It is possible to use non gradient optimization (for example basin-hopping algorithm) to minimize threshold but we don't need it. We can just check every threshold from min(train_mi_table) to max(train_mi_table) with small step"
   ]
  },
  {
   "cell_type": "code",
   "execution_count": 212,
   "metadata": {},
   "outputs": [],
   "source": [
    "min_y = 11111111\n",
    "threshold = -1\n",
    "i = 0.1\n",
    "for i in np.linspace(train_mi_table.min(), train_mi_table.max() + 1e-10, 100000):\n",
    "    func_y = threshold_func(test_contact_map, train_mi_table, i, matrix_dist)\n",
    "    if func_y < min_y:\n",
    "        min_y = func_y\n",
    "        threshold = i\n",
    "\n",
    "#0.01874, 0.03255\n",
    "#0.07175717571757176, 0.03255032550325503"
   ]
  },
  {
   "cell_type": "code",
   "execution_count": 213,
   "metadata": {},
   "outputs": [
    {
     "data": {
      "text/plain": [
       "(0.07631750056430447, 21.400934559032695)"
      ]
     },
     "execution_count": 213,
     "metadata": {},
     "output_type": "execute_result"
    }
   ],
   "source": [
    "threshold, min_y"
   ]
  },
  {
   "cell_type": "markdown",
   "metadata": {},
   "source": [
    "## Create PDB file"
   ]
  },
  {
   "cell_type": "code",
   "execution_count": 217,
   "metadata": {},
   "outputs": [],
   "source": [
    "import os"
   ]
  },
  {
   "cell_type": "code",
   "execution_count": 218,
   "id": "d70ec25b",
   "metadata": {},
   "outputs": [],
   "source": [
    "contact_map = mi_to_contact_map(train_mi_table, threshold)\n",
    "\n",
    "fd = open(\"my_contacts.lst\", \"w\")\n",
    "fd.write(str(contact_map.shape[1]) + '\\n')\n",
    "for val in contact_map.reshape(-1):\n",
    "    fd.write(str(val) + '\\n')"
   ]
  },
  {
   "cell_type": "markdown",
   "metadata": {},
   "source": [
    "FT-COMAR is not a strict converter, so we call it multiple times"
   ]
  },
  {
   "cell_type": "code",
   "execution_count": 219,
   "id": "cade2c25",
   "metadata": {},
   "outputs": [
    {
     "name": "stdout",
     "output_type": "stream",
     "text": [
      "chain 1 er 220 time 0.38 erS 220 chain 1 er 211 time 0.38 erS 211 chain 1 er 211 time 0.36 erS 211 chain 1 er 191 time 0.34 erS 191 chain 1 er 191 time 0.34 erS 191 "
     ]
    }
   ],
   "source": [
    "for i in range(0, 5):\n",
    "    os.system(f\"ft-comar/FT-COMAR my_contacts.lst 9 0 train{i}.pdb\")"
   ]
  },
  {
   "cell_type": "markdown",
   "metadata": {},
   "source": [
    "# Another method for measuring protein similarity"
   ]
  },
  {
   "cell_type": "markdown",
   "metadata": {},
   "source": [
    "We should get similar 3d structures. So we can compare train and test protein structure coordinates (of the carbon acids) and find the closest train structure."
   ]
  },
  {
   "cell_type": "code",
   "execution_count": 220,
   "metadata": {},
   "outputs": [],
   "source": [
    "def get_coords(model): #pdb parser model -> np.array with CA coordinates\n",
    "    model_coords = []\n",
    "    for chain in model:\n",
    "        for amino_acid in chain:\n",
    "            model_coords.append(amino_acid[\"CA\"].coord)\n",
    "    \n",
    "    return np.array(model_coords)"
   ]
  },
  {
   "cell_type": "code",
   "execution_count": 221,
   "metadata": {},
   "outputs": [],
   "source": [
    "def coords_from_pdb(file_name):\n",
    "    model_coords = []\n",
    "\n",
    "    fd = open(file_name, \"r\")\n",
    "    for val in fd:\n",
    "        x1 = float(val[30:38])\n",
    "        x2 = float(val[38:46])\n",
    "        x3 = float(val[46:54]) \n",
    "        model_coords.append([x1, x2, x3])\n",
    "        \n",
    "    fd.close()\n",
    "    return np.array(model_coords)"
   ]
  },
  {
   "cell_type": "markdown",
   "metadata": {},
   "source": [
    "metric 1: displacement of structures to one center of mass and coordinate difference norm\n",
    "\n",
    "   we are not sure if the centers of mass are in the same places, so we need to conduct an experiment"
   ]
  },
  {
   "cell_type": "code",
   "execution_count": 222,
   "metadata": {},
   "outputs": [],
   "source": [
    "def _set_equal_norm(coords_to_move, coords_const):\n",
    "    mean1 = np.mean(coords_const, axis=0)\n",
    "    mean2 = np.mean(coords_to_move, axis=0)\n",
    "\n",
    "    return coords_to_move - mean2 + mean1\n",
    "\n",
    "def diff_exclude_bias(train_struct, test_struct): # metric 1: displacement of structures to one center of mass and coordinate difference norm\n",
    "    diff_matrix = train_struct - _set_equal_norm(test_struct, train_struct)\n",
    "    diff_points = np.sqrt(np.sum(diff_matrix * diff_matrix, axis = 1))\n",
    "    return np.sqrt(np.sum(diff_points * diff_points))"
   ]
  },
  {
   "cell_type": "markdown",
   "metadata": {},
   "source": [
    "metric 2: coordinate difference norm"
   ]
  },
  {
   "cell_type": "code",
   "execution_count": 223,
   "metadata": {},
   "outputs": [],
   "source": [
    "def diff_norm(train_struct, test_struct): #metric 2: coordinate difference norm\n",
    "    diff_matrix = train_struct - test_struct\n",
    "    diff_points = np.sqrt(np.sum(diff_matrix * diff_matrix, axis = 1))\n",
    "    return np.sqrt(np.sum(diff_points * diff_points))"
   ]
  },
  {
   "cell_type": "markdown",
   "metadata": {},
   "source": [
    "metric 3: center mass bias"
   ]
  },
  {
   "cell_type": "code",
   "execution_count": 224,
   "metadata": {},
   "outputs": [],
   "source": [
    "def struct_bias(coords_to_move, coords_const): #metric 3: center mass bias\n",
    "    mean1 = np.mean(coords_const, axis=0)\n",
    "    mean2 = np.mean(coords_to_move, axis=0)\n",
    "\n",
    "    return np.sqrt(np.sum((mean1 - mean2)**2))"
   ]
  },
  {
   "cell_type": "markdown",
   "metadata": {},
   "source": [
    "Calculate the distance between train and test structure using one of the metrics"
   ]
  },
  {
   "cell_type": "code",
   "execution_count": 225,
   "metadata": {},
   "outputs": [],
   "source": [
    "def struct_dist(train_contact_map, test_model, dist_func):\n",
    "    train_contact_map_size = train_contact_map.shape[1]\n",
    "\n",
    "    fd = open(\"my_contacts.lst\", \"w\")\n",
    "    fd.write(str(train_contact_map_size) + '\\n')\n",
    "    for val in train_contact_map.reshape(-1):\n",
    "        fd.write(str(val) + '\\n')\n",
    "    fd.close()\n",
    "\n",
    "    pdb_filename = \"tmp_file.pdb\"\n",
    "    train_struct = coords_from_pdb(pdb_filename)\n",
    "    test_struct  = get_coords(test_model)\n",
    "    return dist_func(train_struct, test_struct)\n"
   ]
  },
  {
   "cell_type": "code",
   "execution_count": 226,
   "metadata": {},
   "outputs": [],
   "source": [
    "def get_dist(train_mi_table, test_model, threshold, dist_func):\n",
    "    train_contact_map = mi_to_contact_map(train_mi_table, threshold)\n",
    "    return struct_dist(train_contact_map, test_model, dist_func)"
   ]
  },
  {
   "cell_type": "markdown",
   "metadata": {},
   "source": [
    "Load test structure. Load mutual information matrix (from PredProdStruct.ipynb)"
   ]
  },
  {
   "cell_type": "code",
   "execution_count": 227,
   "metadata": {},
   "outputs": [
    {
     "name": "stderr",
     "output_type": "stream",
     "text": [
      "/home/maksym/anaconda3/lib/python3.8/site-packages/Bio/PDB/PDBParser.py:395: PDBConstructionWarning: Ignoring unrecognized record 'END' at line 709\n",
      "  warnings.warn(\n"
     ]
    }
   ],
   "source": [
    "test_model = PDBParser().get_structure(\"test\", \"tetR.pdb\")[0]\n",
    "train_mi_table = np.load(\"mi_table_corrected2.npy\")"
   ]
  },
  {
   "cell_type": "markdown",
   "metadata": {},
   "source": [
    "### Find the threshold by minimizing one of the metrics"
   ]
  },
  {
   "cell_type": "code",
   "execution_count": 228,
   "metadata": {},
   "outputs": [],
   "source": [
    "min_y = 11111111\n",
    "threshold = -1\n",
    "for i in np.linspace(train_mi_table.min(), train_mi_table.max() + 1e-10, 1000):\n",
    "    func_y = get_dist(train_mi_table, test_model, i, diff_norm)\n",
    "    if func_y < min_y:\n",
    "        min_y = func_y\n",
    "        threshold = i"
   ]
  },
  {
   "cell_type": "code",
   "execution_count": 229,
   "metadata": {},
   "outputs": [
    {
     "data": {
      "text/plain": [
       "(-0.18121055825612498, 193.29036694853482)"
      ]
     },
     "execution_count": 229,
     "metadata": {},
     "output_type": "execute_result"
    }
   ],
   "source": [
    "threshold, min_y"
   ]
  },
  {
   "cell_type": "markdown",
   "metadata": {},
   "source": [
    "## Other options (finaly unused)"
   ]
  },
  {
   "cell_type": "markdown",
   "metadata": {},
   "source": [
    "### Find the global minimum of a function using the basin-hopping algorithm"
   ]
  },
  {
   "cell_type": "code",
   "execution_count": null,
   "metadata": {},
   "outputs": [],
   "source": [
    "from scipy.optimize import basinhopping\n",
    "from scipy.optimize import minimize"
   ]
  },
  {
   "cell_type": "code",
   "execution_count": null,
   "metadata": {},
   "outputs": [
    {
     "name": "stdout",
     "output_type": "stream",
     "text": [
      "global minimum: x = 0.0786, f(x) = 21.4009\n"
     ]
    }
   ],
   "source": [
    "minimizer_kwargs = {\"method\": \"BFGS\"}\n",
    "func = lambda x: threshold_func(test_contact_map, train_mi_table, x, matrix_dist)\n",
    "x0 = 0.3\n",
    "ret = basinhopping(func, x0, #minimizer_kwargs=minimizer_kwargs,\n",
    "                   niter=200)\n",
    "\n",
    "print(\"global minimum: x = %.4f, f(x) = %.4f\" % (ret.x, ret.fun))"
   ]
  },
  {
   "cell_type": "code",
   "execution_count": null,
   "metadata": {},
   "outputs": [
    {
     "name": "stdout",
     "output_type": "stream",
     "text": [
      "global minimum: x = 0.1900, f(x) = 461.0000\n"
     ]
    }
   ],
   "source": [
    "func = lambda x: threshold_func(test_contact_map, train_mi_table, x, equal_zeros)\n",
    "x0 = 0.2\n",
    "ret = minimize(func, x0, method=\"Nelder-Mead\")\n",
    "print(\"global minimum: x = %.4f, f(x) = %.4f\" % (ret.x, ret.fun))"
   ]
  }
 ],
 "metadata": {
  "kernelspec": {
   "display_name": "Python 3.8.3 ('base')",
   "language": "python",
   "name": "python3"
  },
  "language_info": {
   "codemirror_mode": {
    "name": "ipython",
    "version": 3
   },
   "file_extension": ".py",
   "mimetype": "text/x-python",
   "name": "python",
   "nbconvert_exporter": "python",
   "pygments_lexer": "ipython3",
   "version": "3.8.3"
  },
  "orig_nbformat": 4,
  "vscode": {
   "interpreter": {
    "hash": "b9e733ad0320ee6eeb44c3255968b2ba7a5cded3238d4860b3a8232f88ba79c4"
   }
  }
 },
 "nbformat": 4,
 "nbformat_minor": 2
}
