{
 "cells": [
  {
   "cell_type": "code",
   "execution_count": 26,
   "id": "0b8c6bd2",
   "metadata": {
    "scrolled": true
   },
   "outputs": [
    {
     "name": "stdout",
     "output_type": "stream",
     "text": [
      "0\n",
      "ID: A0A2H5ZBW7/12-58\n",
      "Name: A0A2H5ZBW7/12-58\n",
      "Description: A0A2H5ZBW7/12-58\n",
      "Number of features: 0\n",
      "Seq('ILAAA-L-E-L-F-L-S--E-----G--Y-E-----A-A--TVRA-----IGRR...EAL')\n",
      "A0A2H5ZBW7/12-58 : ILAAA-L-E-L-F-L-S--E-----G--Y-E-----A-A--TVRA-----IGRRA----G---V-S--D-S-A--LY-Y-Y-F-----E--SKAAILEAL\n",
      "1000\n",
      "ID: A0A0C7NWV7/17-60\n",
      "Name: A0A0C7NWV7/17-60\n",
      "Description: A0A0C7NWV7/17-60\n",
      "Number of features: 0\n",
      "Seq('IMDAA-E-K-L-F-I-Q--K-----G--Y-Q-----N-T--TMTE-----IAKK...---')\n",
      "A0A0C7NWV7/17-60 : IMDAA-E-K-L-F-I-Q--K-----G--Y-Q-----N-T--TMTE-----IAKKS----K---L-A--K-G-T--LY-L-Y-F-----S--SKKDLY---\n",
      "2000\n",
      "ID: A0A7Y6CQV0/16-62\n",
      "Name: A0A7Y6CQV0/16-62\n",
      "Description: A0A7Y6CQV0/16-62\n",
      "Number of features: 0\n",
      "Seq('IITGA-R-A-C-F-A-E--F-----G--Y-E-----G-A--TVRR-----LEEA...LAV')\n",
      "A0A7Y6CQV0/16-62 : IITGA-R-A-C-F-A-E--F-----G--Y-E-----G-A--TVRR-----LEEAT----G---L-S--R-G-A--IF-H-H-F-----N--DKEALFLAV\n",
      "3000\n",
      "ID: U1LSX4/24-64\n",
      "Name: U1LSX4/24-64\n",
      "Description: U1LSX4/24-64\n",
      "Number of features: 0\n",
      "Seq('----V-V-E-V-F-N-E--R-----G--Y-D-----A-A--SLGS-----IAEK...E--')\n",
      "U1LSX4/24-64 : ----V-V-E-V-F-N-E--R-----G--Y-D-----A-A--SLGS-----IAEKL----G---L-S--K-S-A--IY-H-H-F-----A--SKEQMLE--\n",
      "4000\n",
      "ID: A0A4Z0WIH8/16-60\n",
      "Name: A0A4Z0WIH8/16-60\n",
      "Description: A0A4Z0WIH8/16-60\n",
      "Number of features: 0\n",
      "Seq('LLAVA-R-E-H-F-T-R--D-----G--Y-A-----A-A--ATER-----IVAE...R--')\n",
      "A0A4Z0WIH8/16-60 : LLAVA-R-E-H-F-T-R--D-----G--Y-A-----A-A--ATER-----IVAEA----G---V-T--R-G-A--LY-H-H-F-----G--NKLGLYR--\n",
      "5000\n",
      "ID: A0A151Z1U8/16-58\n",
      "Name: A0A151Z1U8/16-58\n",
      "Description: A0A151Z1U8/16-58\n",
      "Number of features: 0\n",
      "Seq('-LYVA-L-Q-L-F-T-T--K-----G--F-K-----E-T--SILE-----VVEQ...---')\n",
      "A0A151Z1U8/16-58 : -LYVA-L-Q-L-F-T-T--K-----G--F-K-----E-T--SILE-----VVEQA----R---V-S--K-T-T--FY-R-F-F-----R--SKEELL---\n",
      "6000\n",
      "ID: A0A4Q7P0W8/16-61\n",
      "Name: A0A4Q7P0W8/16-61\n",
      "Description: A0A4Q7P0W8/16-61\n",
      "Number of features: 0\n",
      "Seq('ILNAA-L-E-I-F-S-K--Y-----D--Y-K-----H-A--STEE-----IASK...LY-')\n",
      "A0A4Q7P0W8/16-61 : ILNAA-L-E-I-F-S-K--Y-----D--Y-K-----H-A--STEE-----IASKA----G---I-S--K-G-M--LF-Y-Y-F-----H--NKKSLYLY-\n",
      "7000\n",
      "ID: C0QFT9/11-57\n",
      "Name: C0QFT9/11-57\n",
      "Description: C0QFT9/11-57\n",
      "Number of features: 0\n",
      "Seq('IIDKS-I-G-L-F-W-Q--N-----G--F-S-----A-S--SMQQ-----VVKT...REA')\n",
      "C0QFT9/11-57 : IIDKS-I-G-L-F-W-Q--N-----G--F-S-----A-S--SMQQ-----VVKTT----G---L-K--P-G-S--IY-N-S-F-----G--NKEALFREA\n",
      "8000\n",
      "ID: A0A2Z4ULS7/14-59\n",
      "Name: A0A2Z4ULS7/14-59\n",
      "Description: A0A2Z4ULS7/14-59\n",
      "Number of features: 0\n",
      "Seq('LIEAS-W-R-V-I-A-A--E-----G--L-E-----G-V--TMRK-----IAAE...LA-')\n",
      "A0A2Z4ULS7/14-59 : LIEAS-W-R-V-I-A-A--E-----G--L-E-----G-V--TMRK-----IAAEA----G---C-T--T-G-R--LT-H-Y-F-----A--DREALILA-\n",
      "9000\n",
      "ID: A0A7X6K2Q7/15-57\n",
      "Name: A0A7X6K2Q7/15-57\n",
      "Description: A0A7X6K2Q7/15-57\n",
      "Number of features: 0\n",
      "Seq('-VNAT-W-R-I-I-A-R--G-----G--M-E-----G-A--TMRE-----IAAE...---')\n",
      "A0A7X6K2Q7/15-57 : -VNAT-W-R-I-I-A-R--G-----G--M-E-----G-A--TMRE-----IAAEA----G---F-A--N-G-A--LK-P-Y-F-----P--PKDDLL---\n",
      "10000\n",
      "ID: A0A2P4UDF2/15-52\n",
      "Name: A0A2P4UDF2/15-52\n",
      "Description: A0A2P4UDF2/15-52\n",
      "Number of features: 0\n",
      "Seq('-LDAA-R-D-C-V-L-A--V-----G--V-R-----R-T--TLTD-----IARR...---')\n",
      "A0A2P4UDF2/15-52 : -LDAA-R-D-C-V-L-A--V-----G--V-R-----R-T--TLTD-----IARRA----G---V-S--R-M-T--LY-R-R-W-----P--D--------\n",
      "11000\n",
      "ID: A0A0U4BEX0/6-50\n",
      "Name: A0A0U4BEX0/6-50\n",
      "Description: A0A0U4BEX0/6-50\n",
      "Number of features: 0\n",
      "Seq('LVAAA-A-Q-L-F-E-E--G-----G--T-K-----A-V--THRS-----VSEA...D--')\n",
      "A0A0U4BEX0/6-50 : LVAAA-A-Q-L-F-E-E--G-----G--T-K-----A-V--THRS-----VSEAA----Q---V-P--L-A-T--VS-Y-Y-F-----A--SIDQLVD--\n",
      "12000\n",
      "ID: Q9I3H4/20-63\n",
      "Name: Q9I3H4/20-63\n",
      "Description: Q9I3H4/20-63\n",
      "Number of features: 0\n",
      "Seq('LLEAA-L-R-L-GsS-S--R-----S--L-G-----A-I--GLRE-----LARE...---')\n",
      "Q9I3H4/20-63 : LLEAA-L-R-L-GsS-S--R-----S--L-G-----A-I--GLRE-----LAREA----G---L-N--P-N-T--FY-R-H-F-----R--DIDDL----\n"
     ]
    }
   ],
   "source": [
    "# Data visualization\n",
    "import Bio.SeqIO\n",
    "\n",
    "for i, record in enumerate(Bio.SeqIO.parse(\"data/PF00440_rp15.txt\", \"fasta\")):\n",
    "    if i % 1000 == 0:\n",
    "        print(i)\n",
    "        print(record)\n",
    "        print(str(record.description),\":\",str(record.seq))"
   ]
  },
  {
   "cell_type": "code",
   "execution_count": 27,
   "id": "9e6e7265",
   "metadata": {},
   "outputs": [
    {
     "data": {
      "text/plain": [
       "'-LQTG-L-E-L-F-G-T--L-----G--Y-T-----A-S--TIEI-----LCEHA----G---L-V--K-R-Y--FY-E-S-F-----T--DRADLFR--'"
      ]
     },
     "execution_count": 27,
     "metadata": {},
     "output_type": "execute_result"
    }
   ],
   "source": [
    "str(record.seq)"
   ]
  },
  {
   "cell_type": "code",
   "execution_count": 28,
   "id": "7ca2749c",
   "metadata": {
    "scrolled": true
   },
   "outputs": [
    {
     "name": "stdout",
     "output_type": "stream",
     "text": [
      "65 66 90 45 97 122\n"
     ]
    }
   ],
   "source": [
    "print(ord(\"A\"), ord(\"B\"), ord(\"Z\"), ord(\"-\"), ord(\"a\"), ord(\"z\"))"
   ]
  },
  {
   "cell_type": "code",
   "execution_count": 29,
   "id": "67a9b8b7",
   "metadata": {},
   "outputs": [],
   "source": [
    "import Bio.SeqIO\n",
    "import numpy as np\n",
    "\n",
    "temp_lim = 4000\n",
    "\n",
    "def encode_nucleotide(nucleotide):\n",
    "    nucleotide_int = ord(nucleotide)\n",
    "    \n",
    "    if nucleotide == \"-\":\n",
    "        return 0\n",
    "    #elif nucleotide_int < 65 or nucleotide_int > 122 or (nucleotide_int > 90 and nucleotide_int < 97):\n",
    "    elif nucleotide_int < 65 or nucleotide_int > 90:\n",
    "        raise ValueError(f\"Nucleotide should be uppercase letter or '-', but got: {nucleotide}\")\n",
    "    \n",
    "    return nucleotide_int - 64\n",
    "\n",
    "\n",
    "def get_seq_matrix(data_path):\n",
    "    seq_matrix = np.empty(shape=[temp_lim, 100], dtype=int)\n",
    "    #seq_matrix = np.array([])\n",
    "    \n",
    "    for i, record in enumerate(Bio.SeqIO.parse(data_path, \"fasta\")):\n",
    "        #seq_matrix[i] = np.array([encode_nucleotide(n) for n in record.seq])\n",
    "        seq_matrix[i] = np.array([encode_nucleotide(c.upper()) for c in str(record.seq)])\n",
    "        \n",
    "        if i == temp_lim - 1:\n",
    "            break\n",
    "        \n",
    "    return seq_matrix\n",
    "\n",
    "seq_matrix = get_seq_matrix(\"data/PF00440_rp15.txt\")"
   ]
  },
  {
   "cell_type": "code",
   "execution_count": 30,
   "id": "5232f594",
   "metadata": {
    "collapsed": true
   },
   "outputs": [
    {
     "name": "stdout",
     "output_type": "stream",
     "text": [
      "Filtered 0\n",
      "Filtered 5\n",
      "Filtered 7\n",
      "Filtered 9\n",
      "Filtered 11\n",
      "Filtered 13\n",
      "Filtered 15\n",
      "Filtered 17\n",
      "Filtered 18\n",
      "Filtered 20\n",
      "Filtered 21\n",
      "Filtered 22\n",
      "Filtered 23\n",
      "Filtered 24\n",
      "Filtered 26\n",
      "Filtered 27\n",
      "Filtered 29\n",
      "Filtered 31\n",
      "Filtered 32\n",
      "Filtered 33\n",
      "Filtered 34\n",
      "Filtered 35\n",
      "Filtered 37\n",
      "Filtered 39\n",
      "Filtered 40\n",
      "Filtered 45\n",
      "Filtered 46\n",
      "Filtered 47\n",
      "Filtered 48\n",
      "Filtered 49\n",
      "Filtered 55\n",
      "Filtered 56\n",
      "Filtered 57\n",
      "Filtered 58\n",
      "Filtered 60\n",
      "Filtered 61\n",
      "Filtered 62\n",
      "Filtered 64\n",
      "Filtered 66\n",
      "Filtered 67\n",
      "Filtered 69\n",
      "Filtered 71\n",
      "Filtered 73\n",
      "Filtered 74\n",
      "Filtered 77\n",
      "Filtered 79\n",
      "Filtered 81\n",
      "Filtered 83\n",
      "Filtered 84\n",
      "Filtered 85\n",
      "Filtered 86\n",
      "Filtered 87\n",
      "Filtered 89\n",
      "Filtered 90\n",
      "Filtered 98\n",
      "Filtered 99\n"
     ]
    }
   ],
   "source": [
    "seq_matrix_filtered = np.array([], dtype=int)\n",
    "deleted_indexes = []\n",
    "max_zero_part = 0.1\n",
    "\n",
    "for i in range(seq_matrix.shape[1]):\n",
    "    if np.sum(seq_matrix[:, i] == 0) / seq_matrix.shape[0] < max_zero_part:\n",
    "        if seq_matrix_filtered.shape[0] == 0:\n",
    "            seq_matrix_filtered = seq_matrix[:, i].reshape(-1, 1)\n",
    "        else:\n",
    "            seq_matrix_filtered = np.hstack([seq_matrix_filtered, seq_matrix[:, i].reshape(-1, 1)])\n",
    "    else:\n",
    "        print(f\"Filtered {i}\")\n",
    "        deleted_indexes.append(i)"
   ]
  },
  {
   "cell_type": "code",
   "execution_count": 31,
   "id": "7d9ff496",
   "metadata": {},
   "outputs": [
    {
     "data": {
      "text/plain": [
       "(4000, 44)"
      ]
     },
     "execution_count": 31,
     "metadata": {},
     "output_type": "execute_result"
    }
   ],
   "source": [
    "seq_matrix_filtered.shape"
   ]
  },
  {
   "cell_type": "code",
   "execution_count": 32,
   "id": "639077ef",
   "metadata": {},
   "outputs": [],
   "source": [
    "from sklearn.metrics import mutual_info_score, adjusted_mutual_info_score, normalized_mutual_info_score\n",
    "\n",
    "def get_mi_table(seq_matrix):    \n",
    "    mi_table_size = seq_matrix.shape[1]\n",
    "    mi_table = np.empty([mi_table_size, mi_table_size])\n",
    "    \n",
    "    for i in range(mi_table_size):\n",
    "        for j in range(mi_table_size):        \n",
    "            mi_table[i, j] = mutual_info_score(seq_matrix[:, i], seq_matrix[:, j])\n",
    "    return mi_table\n",
    "\n",
    "def get_mi_table_exclude_unknown(seq_matrix):\n",
    "    mi_table_size = seq_matrix.shape[1]\n",
    "    mi_table = np.empty([mi_table_size, mi_table_size])\n",
    "    \n",
    "    for i in range(mi_table_size):\n",
    "        for j in range(mi_table_size):\n",
    "            col_i_filtered = np.array([], dtype=int)\n",
    "            col_j_filtered = np.array([], dtype=int)\n",
    "            for k in range(len(seq_matrix[:, j])):\n",
    "                if seq_matrix[:, i][k] != 0 and seq_matrix[:, j][k] != 0:\n",
    "                    col_i_filtered = np.append(col_i_filtered, seq_matrix[:, i][k])\n",
    "                    col_j_filtered = np.append(col_j_filtered, seq_matrix[:, j][k])\n",
    "            mi_table[i, j] = mutual_info_score(col_i_filtered, col_j_filtered)\n",
    "    return mi_table"
   ]
  },
  {
   "cell_type": "code",
   "execution_count": 33,
   "id": "caeb10ea",
   "metadata": {
    "scrolled": false
   },
   "outputs": [
    {
     "data": {
      "text/plain": [
       "<matplotlib.image.AxesImage at 0x7f9919363f10>"
      ]
     },
     "execution_count": 33,
     "metadata": {},
     "output_type": "execute_result"
    },
    {
     "data": {
      "image/png": "[encoded data removed]",
      "text/plain": [
       "<Figure size 576x576 with 1 Axes>"
      ]
     },
     "metadata": {
      "needs_background": "light"
     },
     "output_type": "display_data"
    }
   ],
   "source": [
    "import matplotlib.pyplot as plt\n",
    "\n",
    "mi_table = get_mi_table(seq_matrix_filtered)\n",
    "plt.figure(figsize=[8, 8])\n",
    "plt.matshow(mi_table, fignum=1, cmap='gray')"
   ]
  },
  {
   "cell_type": "code",
   "execution_count": 34,
   "id": "da9a0108",
   "metadata": {
    "scrolled": false
   },
   "outputs": [
    {
     "data": {
      "text/plain": [
       "<matplotlib.image.AxesImage at 0x7f99192d3340>"
      ]
     },
     "execution_count": 34,
     "metadata": {},
     "output_type": "execute_result"
    },
    {
     "data": {
      "image/png": "[encoded data removed]",
      "text/plain": [
       "<Figure size 576x576 with 1 Axes>"
      ]
     },
     "metadata": {
      "needs_background": "light"
     },
     "output_type": "display_data"
    }
   ],
   "source": [
    "mi_table = get_mi_table_exclude_unknown(seq_matrix_filtered)\n",
    "plt.figure(figsize=[8, 8])\n",
    "plt.matshow(mi_table, fignum=1, cmap='gray')"
   ]
  },
  {
   "cell_type": "code",
   "execution_count": 35,
   "id": "328d8f53",
   "metadata": {},
   "outputs": [
    {
     "data": {
      "text/plain": [
       "array([[ 1.06187378, -0.1076259 , -0.10655997, ..., -0.08875856,\n",
       "        -0.11341646, -0.13469571],\n",
       "       [-0.1076259 ,  1.9646058 , -0.12061328, ..., -0.11251383,\n",
       "        -0.14433233, -0.14043503],\n",
       "       [-0.10655997, -0.12061328,  1.2752488 , ..., -0.09770863,\n",
       "        -0.12614838, -0.14066466],\n",
       "       ...,\n",
       "       [-0.08875856, -0.11251383, -0.09770863, ...,  0.8259742 ,\n",
       "        -0.10478672, -0.13247947],\n",
       "       [-0.11341646, -0.14433233, -0.12614838, ..., -0.10478672,\n",
       "         1.56455452, -0.13638096],\n",
       "       [-0.13469571, -0.14043503, -0.14066466, ..., -0.13247947,\n",
       "        -0.13638096,  2.35925229]])"
      ]
     },
     "execution_count": 35,
     "metadata": {},
     "output_type": "execute_result"
    }
   ],
   "source": [
    "mi_table_sums = np.empty(mi_table.shape)\n",
    "\n",
    "for i in range(mi_table.shape[0]):\n",
    "    for j in range(mi_table.shape[1]):\n",
    "        mi_table_sums[i, j] = np.sum(mi_table[i, :]) + np.sum(mi_table[:, j])\n",
    "        \n",
    "mi_table_corrected = mi_table - (1 / mi_table.shape[0]) * mi_table_sums\n",
    "mi_table_corrected"
   ]
  },
  {
   "cell_type": "code",
   "execution_count": 36,
   "id": "f69df91a",
   "metadata": {},
   "outputs": [
    {
     "data": {
      "text/plain": [
       "<matplotlib.image.AxesImage at 0x7f99192b77c0>"
      ]
     },
     "execution_count": 36,
     "metadata": {},
     "output_type": "execute_result"
    },
    {
     "data": {
      "image/png": "[encoded data removed]",
      "text/plain": [
       "<Figure size 576x576 with 1 Axes>"
      ]
     },
     "metadata": {
      "needs_background": "light"
     },
     "output_type": "display_data"
    }
   ],
   "source": [
    "plt.figure(figsize=[8, 8])\n",
    "plt.matshow(mi_table_corrected, fignum=1, cmap='gray')"
   ]
  },
  {
   "cell_type": "code",
   "execution_count": 23,
   "id": "4a89250c",
   "metadata": {},
   "outputs": [],
   "source": [
    "with open(\"mi_table_corrected2.npy\", \"wb\") as f:\n",
    "    np.save(f, mi_table_corrected)"
   ]
  },
  {
   "cell_type": "code",
   "execution_count": 37,
   "id": "4568563e",
   "metadata": {
    "scrolled": true
   },
   "outputs": [],
   "source": [
    "contact_map_threshold = -0.06  # tau\n",
    "contact_map_size = mi_table_corrected.shape[1]\n",
    "contact_map = np.empty([contact_map_size, contact_map_size], dtype=int)\n",
    "\n",
    "for i in range(contact_map_size):\n",
    "    for j in range(contact_map_size):\n",
    "        if mi_table_corrected[i][j] > contact_map_threshold:\n",
    "            #print(f\"({i}, {j}): {mi_table_corrected[i][j]}\")\n",
    "            contact_map[i][j] = 1\n",
    "        else:\n",
    "            contact_map[i][j] = 0"
   ]
  },
  {
   "cell_type": "code",
   "execution_count": 135,
   "id": "754a9ca3",
   "metadata": {},
   "outputs": [
    {
     "data": {
      "text/plain": [
       "array([[1, 0, 0, ..., 0, 0, 0],\n",
       "       [0, 1, 0, ..., 0, 0, 0],\n",
       "       [0, 0, 1, ..., 0, 0, 0],\n",
       "       ...,\n",
       "       [0, 0, 0, ..., 1, 0, 0],\n",
       "       [0, 0, 0, ..., 0, 1, 0],\n",
       "       [0, 0, 0, ..., 0, 0, 1]])"
      ]
     },
     "execution_count": 135,
     "metadata": {},
     "output_type": "execute_result"
    }
   ],
   "source": [
    "contact_map"
   ]
  },
  {
   "cell_type": "code",
   "execution_count": 136,
   "id": "a0f16549",
   "metadata": {},
   "outputs": [
    {
     "data": {
      "text/plain": [
       "<matplotlib.image.AxesImage at 0x7fe62abe6220>"
      ]
     },
     "execution_count": 136,
     "metadata": {},
     "output_type": "execute_result"
    },
    {
     "data": {
      "image/png": "[encoded data removed]",
      "text/plain": [
       "<Figure size 800x800 with 1 Axes>"
      ]
     },
     "metadata": {},
     "output_type": "display_data"
    }
   ],
   "source": [
    "plt.figure(figsize=[8, 8])\n",
    "plt.matshow(contact_map, fignum=1, cmap='gray')"
   ]
  },
  {
   "cell_type": "code",
   "execution_count": 140,
   "id": "d70ec25b",
   "metadata": {},
   "outputs": [],
   "source": [
    "assert contact_map_size == (len(contact_map.reshape(-1)))**(1/2)\n",
    "\n",
    "fd = open(\"my_contacts.lst\", \"w\")\n",
    "fd.write(str(contact_map_size) + '\\n')\n",
    "for val in contact_map.reshape(-1):\n",
    "    fd.write(str(val) + '\\n')"
   ]
  },
  {
   "cell_type": "code",
   "execution_count": 52,
   "id": "df9d0bab",
   "metadata": {},
   "outputs": [],
   "source": [
    "nucleotides = ['G', 'A', 'V', 'I', 'L', 'P', 'S', 'T', 'C', 'M', 'D', 'N', 'E', 'Q', 'K', 'R', 'H', 'F', 'Y', 'W']\n",
    "\n",
    "def prob(column_list, nucleotide_list):\n",
    "    if len(column_list) != len(nucleotide_list):\n",
    "        print(\"ERROR LENGTH IN PROB\")\n",
    "        return -1\n",
    "\n",
    "    list_len = len(column_list)\n",
    "    N = len(column_list[0])\n",
    "\n",
    "    nucleotide_count = 0\n",
    "    for i in range(N):\n",
    "        having_letter = True\n",
    "        for j in range(list_len):\n",
    "            if column_list[j][i] != encode_nucleotide(nucleotide_list[j]):\n",
    "                having_letter = False\n",
    "        if having_letter:\n",
    "            nucleotide_count += 1\n",
    "\n",
    "    return nucleotide_count / N\n",
    "\n",
    "\n",
    "def MI(xi, xj):\n",
    "    mi_ij_list = []\n",
    "    for a in nucleotides:\n",
    "        for b in nucleotides:\n",
    "            log_part = prob([xi, xj], [a, b]) / (prob([xi], [a]) * prob([xj], [b]) + 1e-10)\n",
    "            mi_ij_list.append(prob([xi, xj], [a, b]) * np.log(log_part + 1e-10))\n",
    "    return np.sum(mi_ij_list)"
   ]
  },
  {
   "cell_type": "code",
   "execution_count": 55,
   "id": "7b9f071c",
   "metadata": {},
   "outputs": [
    {
     "data": {
      "text/plain": [
       "1.5262246301891298"
      ]
     },
     "execution_count": 55,
     "metadata": {},
     "output_type": "execute_result"
    }
   ],
   "source": [
    "#MI(seq_matrix_filtered[0], seq_matrix_filtered[2])"
   ]
  },
  {
   "cell_type": "markdown",
   "id": "8cf82dea",
   "metadata": {},
   "source": [
    "# Drafts"
   ]
  },
  {
   "cell_type": "code",
   "execution_count": 62,
   "id": "406cfbe2",
   "metadata": {},
   "outputs": [],
   "source": [
    "contact_map_threshold = 0.5\n",
    "contact_map_size = seq_matrix.shape[1]\n",
    "contact_map = np.empty([contact_map_size, contact_map_size], dtype=int)\n",
    "last_deleted_index = 0\n",
    "\n",
    "for i in range(contact_map_size):\n",
    "    if i in deleted_indexes:\n",
    "        contact_map[i] = np.zeros((contact_map_size), dtype=int)\n",
    "        last_deleted_index = i\n",
    "        continue\n",
    "    \n",
    "    next_mi = 0\n",
    "    for j in range(contact_map_size):\n",
    "        if j in deleted_indexes:\n",
    "            contact_map[i][j] = 0\n",
    "        else:\n",
    "            mi = mi_table[i - last_deleted_index][next_mi]\n",
    "            next_mi += 1\n",
    "            if mi > contact_map_threshold:\n",
    "                contact_map[i][j] = 1\n",
    "                \n",
    "    assert next_mi == len(mi_table[i - last_deleted_index])\n",
    "        "
   ]
  },
  {
   "cell_type": "markdown",
   "id": "67bc7a59",
   "metadata": {},
   "source": [
    "## Previous drafts"
   ]
  },
  {
   "cell_type": "code",
   "execution_count": 11,
   "id": "6d353f36",
   "metadata": {},
   "outputs": [
    {
     "name": "stdout",
     "output_type": "stream",
     "text": [
      "[ 0.04249938  0.05651251 -0.06974591] [-0.03319207 -0.05225071 -0.01420404]\n",
      "[[ 0.29564902 -0.79596644  0.65701632]\n",
      " [-0.1605492  -0.04923087  0.79453226]\n",
      " [ 0.93577866  0.34675375 -0.65843306]\n",
      " [ 0.07194742  0.32008543  0.42115467]\n",
      " [ 0.64685051  0.30860649  0.31257174]\n",
      " [ 0.82954137  0.12205075 -0.34860444]\n",
      " [-0.25210376  0.53561565  0.4859472 ]\n",
      " [-0.16964885  0.43623778  0.15637293]\n",
      " [ 0.63351488 -0.16009509 -0.42541682]\n",
      " [ 0.83082511 -0.50314528  0.9935773 ]\n",
      " [ 0.1802525  -0.98355678 -0.64256969]\n",
      " [ 0.80323617  0.43410403  0.55191222]\n",
      " [ 0.26692481 -0.80028014 -0.91660013]\n",
      " [-0.65820075 -0.00108991  0.59270447]\n",
      " [-0.9766189   0.20062271  0.1632191 ]\n",
      " [ 0.96260396  0.04739031 -0.11978372]\n",
      " [-0.19848397 -0.24413406 -0.95295511]\n",
      " [ 0.21453936  0.7999379  -0.70590842]\n",
      " [ 0.78830451  0.84749998  0.72938991]\n",
      " [-0.96915774 -0.4878321  -0.72896078]\n",
      " [ 0.25717491 -0.52155113  0.90724741]\n",
      " [-0.50351888 -0.69204735 -0.89868013]\n",
      " [-0.85529979  0.85086347 -0.38258377]\n",
      " [-0.90628056  0.4367719  -0.70584292]\n",
      " [ 0.52946414 -0.67380726  0.41152272]\n",
      " [-0.25607021  0.3202902  -0.70124405]\n",
      " [-0.8607758   0.04115507 -0.33019033]\n",
      " [ 0.49734956  0.41456048 -0.76709203]\n",
      " [-0.85867145 -0.98848931 -0.88496953]\n",
      " [-0.43844416  0.90324432 -0.40622767]\n",
      " [ 0.30085948  0.15788197  0.19295047]\n",
      " [-0.65353559 -0.6409549   0.5123546 ]\n",
      " [ 0.86748026 -0.88453204  0.51066496]\n",
      " [ 0.70565987 -0.33729116 -0.41299174]\n",
      " [-0.14840793  0.93230064 -0.37830695]\n",
      " [-0.96508479 -0.43624721  0.11745322]\n",
      " [-0.86787166 -0.22054647 -0.18004035]\n",
      " [-0.62124641 -0.85156559 -0.39122992]\n",
      " [ 0.53208172  0.72294878  0.38420475]\n",
      " [-0.30287622 -0.46375333  0.57453969]\n",
      " [-0.55052409 -0.79918429  0.58905075]\n",
      " [ 0.20698034  0.11691665  0.22453825]\n",
      " [-0.81244001 -0.81022173  0.14645226]\n",
      " [ 0.16834099  0.75065314  0.88427655]]\n",
      "[[ 0.37134047 -0.68720323  0.60147445]\n",
      " [-0.08485775  0.05953235  0.73899039]\n",
      " [ 1.01147011  0.45551697 -0.71397493]\n",
      " [ 0.14763887  0.42884865  0.3656128 ]\n",
      " [ 0.72254196  0.4173697   0.25702987]\n",
      " [ 0.90523282  0.23081396 -0.40414632]\n",
      " [-0.17641231  0.64437887  0.43040532]\n",
      " [-0.09395741  0.545001    0.10083106]\n",
      " [ 0.70920633 -0.05133187 -0.48095869]\n",
      " [ 0.90651656 -0.39438206  0.93803543]\n",
      " [ 0.25594394 -0.87479357 -0.69811156]\n",
      " [ 0.87892762  0.54286725  0.49637035]\n",
      " [ 0.34261626 -0.69151692 -0.972142  ]\n",
      " [-0.5825093   0.10767331  0.5371626 ]\n",
      " [-0.90092745  0.30938592  0.10767723]\n",
      " [ 1.03829541  0.15615353 -0.17532559]\n",
      " [-0.12279252 -0.13537084 -1.00849698]\n",
      " [ 0.29023081  0.90870111 -0.7614503 ]\n",
      " [ 0.86399596  0.95626319  0.67384803]\n",
      " [-0.89346629 -0.37906889 -0.78450265]\n",
      " [ 0.33286636 -0.41278791  0.85170553]\n",
      " [-0.42782744 -0.58328414 -0.954222  ]\n",
      " [-0.77960835  0.95962668 -0.43812564]\n",
      " [-0.83058911  0.54553512 -0.76138479]\n",
      " [ 0.60515559 -0.56504404  0.35598085]\n",
      " [-0.18037876  0.42905342 -0.75678592]\n",
      " [-0.78508435  0.14991829 -0.3857322 ]\n",
      " [ 0.57304101  0.5233237  -0.82263391]\n",
      " [-0.78298    -0.87972609 -0.9405114 ]\n",
      " [-0.36275271  1.01200753 -0.46176955]\n",
      " [ 0.37655092  0.26664518  0.13740859]\n",
      " [-0.57784414 -0.53219168  0.45681272]\n",
      " [ 0.94317171 -0.77576882  0.45512308]\n",
      " [ 0.78135131 -0.22852794 -0.46853361]\n",
      " [-0.07271648  1.04106386 -0.43384882]\n",
      " [-0.88939334 -0.32748399  0.06191135]\n",
      " [-0.79218021 -0.11178326 -0.23558222]\n",
      " [-0.54555496 -0.74280238 -0.44677179]\n",
      " [ 0.60777317  0.831712    0.32866287]\n",
      " [-0.22718477 -0.35499011  0.51899782]\n",
      " [-0.47483264 -0.69042107  0.53350887]\n",
      " [ 0.28267178  0.22567987  0.16899638]\n",
      " [-0.73674856 -0.70145851  0.09091039]\n",
      " [ 0.24403244  0.85941636  0.82873468]]\n"
     ]
    }
   ],
   "source": [
    "import numpy as np\n",
    "\n",
    "coords1 = np.random.rand(44, 3) * 2 - 1 # randoms from [-1, 1)\n",
    "coords2 = np.random.rand(44, 3) * 2 - 1 # randoms from [-1, 1)\n",
    "\n",
    "def set_equal_norm(coords_to_move, coords_const)\n",
    "    mean1 = np.mean(coords_const, axis=0)\n",
    "    mean2 = np.mean(coords_to_move, axis=0)\n",
    "\n",
    "    return coords_to_move - mean2 + mean1"
   ]
  },
  {
   "cell_type": "code",
   "execution_count": 16,
   "id": "585f551b",
   "metadata": {},
   "outputs": [],
   "source": [
    "a = np.array([coords, coords1, coords2])"
   ]
  },
  {
   "cell_type": "code",
   "execution_count": 18,
   "id": "8b58da1a",
   "metadata": {},
   "outputs": [
    {
     "data": {
      "text/plain": [
       "5.677207291426127"
      ]
     },
     "execution_count": 18,
     "metadata": {},
     "output_type": "execute_result"
    }
   ],
   "source": [
    "np.sum(a)"
   ]
  },
  {
   "cell_type": "code",
   "execution_count": 20,
   "id": "5b1cfd77",
   "metadata": {},
   "outputs": [
    {
     "name": "stdout",
     "output_type": "stream",
     "text": [
      "(44, 3)\n"
     ]
    },
    {
     "data": {
      "text/plain": [
       "array([ 1.75378335, -1.4696021 , -0.78124623, -0.74734518,  0.84432438,\n",
       "        1.8657862 , -0.38203538,  0.91998298, -2.11780957, -0.95425693,\n",
       "       -0.59736188,  1.01356683,  1.41748554,  0.79172633,  0.58778392,\n",
       "       -0.10941783,  0.67894394,  0.29890382,  2.67908769,  0.1753    ,\n",
       "       -0.51813756, -0.36691528,  2.18982628, -0.24237085,  0.74223824,\n",
       "        1.34108434,  1.40058878,  0.52779673,  1.04690427, -0.06181988,\n",
       "        0.33927093, -1.79438654, -1.03286008, -1.26057376, -0.28408216,\n",
       "       -1.16106929,  1.53007911, -0.81661249, -1.0612952 ,  0.76672775,\n",
       "        0.22295851,  0.08245073, -0.39287341,  1.70943543])"
      ]
     },
     "execution_count": 20,
     "metadata": {},
     "output_type": "execute_result"
    }
   ],
   "source": [
    "print(coords.shape)\n",
    "coords.sum(axis=1)"
   ]
  },
  {
   "cell_type": "code",
   "execution_count": null,
   "id": "5dd6f906",
   "metadata": {},
   "outputs": [],
   "source": []
  }
 ],
 "metadata": {
  "kernelspec": {
   "display_name": "Python 3.8.3 ('base')",
   "language": "python",
   "name": "python3"
  },
  "language_info": {
   "codemirror_mode": {
    "name": "ipython",
    "version": 3
   },
   "file_extension": ".py",
   "mimetype": "text/x-python",
   "name": "python",
   "nbconvert_exporter": "python",
   "pygments_lexer": "ipython3",
   "version": "3.8.3"
  },
  "vscode": {
   "interpreter": {
    "hash": "b9e733ad0320ee6eeb44c3255968b2ba7a5cded3238d4860b3a8232f88ba79c4"
   }
  }
 },
 "nbformat": 4,
 "nbformat_minor": 5
}
